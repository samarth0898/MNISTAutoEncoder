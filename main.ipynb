{
 "cells": [
  {
   "cell_type": "code",
   "execution_count": 22,
   "metadata": {},
   "outputs": [],
   "source": [
    "# Recap on autoencoders for MNIST dataset\n",
    "import gzip\n",
    "import numpy as np\n",
    "import matplotlib.pyplot as plt\n",
    "import torch.nn as nn\n",
    "import torch\n",
    "from torch.utils.data import Dataset\n",
    "import torchvision"
   ]
  },
  {
   "cell_type": "code",
   "execution_count": 62,
   "metadata": {},
   "outputs": [
    {
     "data": {
      "image/png": "[encoded data removed]",
      "text/plain": [
       "<Figure size 640x480 with 1 Axes>"
      ]
     },
     "metadata": {},
     "output_type": "display_data"
    }
   ],
   "source": [
    "mndata = 'C:\\\\Users\\\\thopa\\\\Desktop\\\\Assignments\\\\11685\\\\Revision\\\\Part2_Recap\\\\MNIST_Autoencoder\\\\samples\\\\'\n",
    "train_images = 'train-images-idx3-ubyte.gz'\n",
    "train_labels = 'train-labels-idx1-ubyte.gz'\n",
    "# test_images = \n",
    "# test_labels = \n",
    "train_img = gzip.open(mndata+ train_images,'r')\n",
    "train_labels = gzip.open(mndata + train_labels,'r')\n",
    "image_size = 28\n",
    "num_images = 1\n",
    "\n",
    "train_img.read(16)\n",
    "buf = train_img.read(image_size * image_size * num_images)\n",
    "data = np.frombuffer(buf, dtype=np.uint8).astype(np.float32)\n",
    "data = data.reshape(num_images, image_size, image_size, 1)\n",
    "image = np.asarray(data).squeeze()/ 255.0\n",
    "plt.imshow(image)\n",
    "plt.show()"
   ]
  },
  {
   "cell_type": "code",
   "execution_count": 53,
   "metadata": {},
   "outputs": [],
   "source": [
    "\n",
    "batch_size_test = 32\n",
    "train_dataset = torchvision.datasets.MNIST('/files/', train=True, download=True,\n",
    "                             transform=torchvision.transforms.Compose([\n",
    "                               torchvision.transforms.ToTensor(),\n",
    "                               torchvision.transforms.Normalize(\n",
    "                                 (0.1307,), (0.3081,))\n",
    "                             ]))\n",
    "batch_size_train = len(train_dataset)\n",
    "train_loader = torch.utils.data.DataLoader(train_dataset, batch_size=batch_size_train, shuffle=True)\n",
    "\n",
    "test_dataset = torchvision.datasets.MNIST('/files/', train=False, download=True,\n",
    "                             transform=torchvision.transforms.Compose([\n",
    "                               torchvision.transforms.ToTensor(),\n",
    "                               torchvision.transforms.Normalize(\n",
    "                                 (0.1307,), (0.3081,))\n",
    "                             ]))\n",
    "# test_loader = torch.utils.data.DataLoader(\n",
    "#   ,\n",
    "#   batch_size=batch_size_test, shuffle=True)"
   ]
  },
  {
   "cell_type": "markdown",
   "metadata": {},
   "source": [
    "input_size = 784\n",
    "hidden_size = 128\n",
    "code_size = 32\n",
    "\n",
    "input_img = Input(shape=(input_size,))\n",
    "hidden_1 = Dense(hidden_size, activation='relu')(input_img)\n",
    "code = Dense(code_size, activation='relu')(hidden_1)\n",
    "hidden_2 = Dense(hidden_size, activation='relu')(code)\n",
    "output_img = Dense(input_size, activation='sigmoid')(hidden_2)\n",
    "\n",
    "autoencoder = Model(input_img, output_img)\n",
    "autoencoder.compile(optimizer='adam', loss='binary_crossentropy')\n",
    "autoencoder.fit(x_train, x_train, epochs=5)"
   ]
  },
  {
   "cell_type": "code",
   "execution_count": 68,
   "metadata": {},
   "outputs": [
    {
     "name": "stdout",
     "output_type": "stream",
     "text": [
      "torch.Size([60000, 784])\n"
     ]
    },
    {
     "data": {
      "image/png": "[encoded data removed]",
      "text/plain": [
       "<Figure size 640x480 with 1 Axes>"
      ]
     },
     "metadata": {},
     "output_type": "display_data"
    }
   ],
   "source": [
    "a,b = train_dataset.__getitem__(0)\n",
    "a.shape\n",
    "for i, (data, label) in enumerate(train_loader):\n",
    "    data = np.squeeze(data).reshape(60000,784)\n",
    "    print(data.shape)\n",
    "    data = data[0].reshape(image_size, image_size)\n",
    "\n",
    "    plt.imshow(data)\n",
    "    plt.show()\n",
    "    \n",
    "    break\n"
   ]
  },
  {
   "cell_type": "code",
   "execution_count": 102,
   "metadata": {},
   "outputs": [],
   "source": [
    "class simpleAutoEncoder(nn.Module):\n",
    "    def __init__(self, size):\n",
    "        super(simpleAutoEncoder, self).__init__()\n",
    "\n",
    "        # Input size = 28*28 ~ 784\n",
    "        self.encoder = nn.Sequential(nn.Linear(size[0], size[1]),nn.ReLU())\n",
    "        self.latent1 = nn.Linear(size[1], size[2])\n",
    "        self.act1 = nn.ReLU()\n",
    "        self.latent2 = nn.Sequential(nn.Linear(size[2], size[3]), nn.ReLU())\n",
    "        self.decoder = nn.Sequential(nn.Linear(size[3],size[4]), nn.Sigmoid())\n",
    "\n",
    "\n",
    "    \n",
    "    def forward(self, x):\n",
    "        x = self.encoder(x)\n",
    "        x = self.latent1(x)\n",
    "        x = self.act1(x)\n",
    "        x = self.latent2(x)\n",
    "        x = self.decoder(x)\n",
    "       \n",
    "         \n",
    "        return x\n",
    "    \n"
   ]
  },
  {
   "cell_type": "code",
   "execution_count": 103,
   "metadata": {},
   "outputs": [],
   "source": [
    "input_size = 784\n",
    "hidden_size = 128\n",
    "code_size = 32\n",
    "\n",
    "size_mat = [input_size, hidden_size, code_size, hidden_size, input_size]  \n",
    "model = simpleAutoEncoder(size_mat)\n",
    "model.cuda()\n",
    "device = \"cuda\""
   ]
  },
  {
   "cell_type": "code",
   "execution_count": 107,
   "metadata": {},
   "outputs": [],
   "source": [
    "# Loss optimizers and schedulers \n",
    "loss = nn.MSELoss()\n",
    "optimizer = torch.optim.Adam(model.parameters(), lr = 0.001, )\n",
    "scheduler=torch.optim.lr_scheduler.ReduceLROnPlateau(optimizer, 'min')"
   ]
  },
  {
   "cell_type": "code",
   "execution_count": 108,
   "metadata": {},
   "outputs": [
    {
     "name": "stdout",
     "output_type": "stream",
     "text": [
      "[0|0] Train Loss: 0.7690475583076477\n",
      "[1|0] Train Loss: 0.7686511874198914\n",
      "[2|0] Train Loss: 0.7646741271018982\n",
      "[3|0] Train Loss: 0.7625167369842529\n",
      "[4|0] Train Loss: 0.7607415318489075\n",
      "[5|0] Train Loss: 0.75836181640625\n",
      "[6|0] Train Loss: 0.7556343078613281\n",
      "[7|0] Train Loss: 0.7529104948043823\n",
      "[8|0] Train Loss: 0.7503354549407959\n",
      "[9|0] Train Loss: 0.7477970719337463\n",
      "[10|0] Train Loss: 0.7450209856033325\n",
      "[11|0] Train Loss: 0.7420496344566345\n",
      "[12|0] Train Loss: 0.7390776872634888\n",
      "[13|0] Train Loss: 0.7361708879470825\n",
      "[14|0] Train Loss: 0.7332380414009094\n",
      "[15|0] Train Loss: 0.7300798892974854\n",
      "[16|0] Train Loss: 0.7268961668014526\n",
      "[17|0] Train Loss: 0.723819375038147\n",
      "[18|0] Train Loss: 0.7208117842674255\n",
      "[19|0] Train Loss: 0.71778404712677\n",
      "[20|0] Train Loss: 0.7146021723747253\n",
      "[21|0] Train Loss: 0.7113701701164246\n",
      "[22|0] Train Loss: 0.7081700563430786\n",
      "[23|0] Train Loss: 0.7049918174743652\n",
      "[24|0] Train Loss: 0.7018314599990845\n",
      "[25|0] Train Loss: 0.698599100112915\n",
      "[26|0] Train Loss: 0.6953551173210144\n",
      "[27|0] Train Loss: 0.6922397017478943\n",
      "[28|0] Train Loss: 0.6893044114112854\n",
      "[29|0] Train Loss: 0.686447024345398\n"
     ]
    }
   ],
   "source": [
    "epochs = 30\n",
    "model.train()\n",
    "for i in range(epochs):\n",
    "    optimizer.zero_grad()\n",
    "    for j, (data, labels) in enumerate(train_loader):\n",
    "        data = np.squeeze(data).reshape(60000,784)\n",
    "        data = data.to(device)\n",
    "        out = model(data)\n",
    "        crit = loss(out, data)\n",
    "        crit.backward()\n",
    "        optimizer.step()\n",
    "        print(\"[{}|{}] Train Loss: {}\".format(i, j , crit.item()))\n",
    "    scheduler.step(crit.item())"
   ]
  },
  {
   "cell_type": "code",
   "execution_count": 101,
   "metadata": {},
   "outputs": [
    {
     "name": "stdout",
     "output_type": "stream",
     "text": [
      "<class 'numpy.ndarray'>\n"
     ]
    },
    {
     "data": {
      "image/png": "[encoded data removed]",
      "text/plain": [
       "<Figure size 640x480 with 1 Axes>"
      ]
     },
     "metadata": {},
     "output_type": "display_data"
    }
   ],
   "source": [
    "model = model.eval()\n",
    "a,b = test_dataset.__getitem__(1)\n",
    "a = a.reshape(1,784)\n",
    "a = a.to(device)\n",
    "out = model(a)\n",
    "out = out.detach().cpu().numpy()\n",
    "print(type(out))\n",
    "data = out.reshape(1, image_size, image_size, 1)\n",
    "image = np.asarray(data).squeeze()\n",
    "plt.figure()\n",
    "plt.imshow(image)\n",
    "plt.show()"
   ]
  },
  {
   "cell_type": "code",
   "execution_count": null,
   "metadata": {},
   "outputs": [],
   "source": []
  }
 ],
 "metadata": {
  "kernelspec": {
   "display_name": "Python 3.9.13 ('PointNet')",
   "language": "python",
   "name": "python3"
  },
  "language_info": {
   "codemirror_mode": {
    "name": "ipython",
    "version": 3
   },
   "file_extension": ".py",
   "mimetype": "text/x-python",
   "name": "python",
   "nbconvert_exporter": "python",
   "pygments_lexer": "ipython3",
   "version": "3.9.13"
  },
  "orig_nbformat": 4,
  "vscode": {
   "interpreter": {
    "hash": "be71f7ebca6fc406e8f2b7eb97fc71d65ed284e191505e45141d8f3008802363"
   }
  }
 },
 "nbformat": 4,
 "nbformat_minor": 2
}
