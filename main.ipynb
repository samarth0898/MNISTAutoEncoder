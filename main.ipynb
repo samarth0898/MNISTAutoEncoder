{
 "cells": [
  {
   "cell_type": "code",
   "execution_count": 22,
   "metadata": {},
   "outputs": [],
   "source": [
    "# Recap on autoencoders for MNIST dataset\n",
    "import gzip\n",
    "import numpy as np\n",
    "import matplotlib.pyplot as plt\n",
    "import torch.nn as nn\n",
    "import torch\n",
    "from torch.utils.data import Dataset\n",
    "import torchvision"
   ]
  },
  {
   "cell_type": "code",
   "execution_count": 62,
   "metadata": {},
   "outputs": [
    {
     "data": {
      "image/png": "[encoded data removed]",
      "text/plain": [
       "<Figure size 640x480 with 1 Axes>"
      ]
     },
     "metadata": {},
     "output_type": "display_data"
    }
   ],
   "source": [
    "mndata = 'C:\\\\Users\\\\thopa\\\\Desktop\\\\Assignments\\\\11685\\\\Revision\\\\Part2_Recap\\\\MNIST_Autoencoder\\\\samples\\\\'\n",
    "train_images = 'train-images-idx3-ubyte.gz'\n",
    "train_labels = 'train-labels-idx1-ubyte.gz'\n",
    "# test_images = \n",
    "# test_labels = \n",
    "train_img = gzip.open(mndata+ train_images,'r')\n",
    "train_labels = gzip.open(mndata + train_labels,'r')\n",
    "image_size = 28\n",
    "num_images = 1\n",
    "\n",
    "train_img.read(16)\n",
    "buf = train_img.read(image_size * image_size * num_images)\n",
    "data = np.frombuffer(buf, dtype=np.uint8).astype(np.float32)\n",
    "data = data.reshape(num_images, image_size, image_size, 1)\n",
    "image = np.asarray(data).squeeze()/ 255.0\n",
    "plt.imshow(image)\n",
    "plt.show()"
   ]
  },
  {
   "cell_type": "code",
   "execution_count": 130,
   "metadata": {},
   "outputs": [
    {
     "name": "stdout",
     "output_type": "stream",
     "text": [
      "train samples: 60000 | test samples 10000\n"
     ]
    }
   ],
   "source": [
    "\n",
    "\n",
    "train_dataset = torchvision.datasets.MNIST('/files/', train=True, download=True,\n",
    "                             transform=torchvision.transforms.Compose([\n",
    "                               torchvision.transforms.ToTensor(),\n",
    "                               torchvision.transforms.Normalize(\n",
    "                                 (0.1307,), (0.3081,))\n",
    "                             ]))\n",
    "batch_size_train = len(train_dataset)\n",
    "train_loader = torch.utils.data.DataLoader(train_dataset, batch_size=batch_size_train, shuffle=True)\n",
    "\n",
    "test_dataset = torchvision.datasets.MNIST('/files/', train=False, download=True,\n",
    "                             transform=torchvision.transforms.Compose([\n",
    "                               torchvision.transforms.ToTensor(),\n",
    "                               torchvision.transforms.Normalize(\n",
    "                                 (0.1307,), (0.3081,))\n",
    "                             ]))\n",
    "batch_size_test = len(test_dataset)\n",
    "test_loader = torch.utils.data.DataLoader(test_dataset,\n",
    "  batch_size=batch_size_test, shuffle=True)\n",
    "print(\"train samples: {} | test samples {}\".format(len(train_dataset), len(test_dataset)))"
   ]
  },
  {
   "cell_type": "code",
   "execution_count": 68,
   "metadata": {},
   "outputs": [
    {
     "name": "stdout",
     "output_type": "stream",
     "text": [
      "torch.Size([60000, 784])\n"
     ]
    },
    {
     "data": {
      "image/png": "[encoded data removed]",
      "text/plain": [
       "<Figure size 640x480 with 1 Axes>"
      ]
     },
     "metadata": {},
     "output_type": "display_data"
    }
   ],
   "source": [
    "a,b = train_dataset.__getitem__(0)\n",
    "a.shape\n",
    "for i, (data, label) in enumerate(train_loader):\n",
    "    data = np.squeeze(data).reshape(60000,784)\n",
    "    print(data.shape)\n",
    "    data = data[0].reshape(image_size, image_size)\n",
    "\n",
    "    plt.imshow(data)\n",
    "    plt.show()\n",
    "    \n",
    "    break\n"
   ]
  },
  {
   "cell_type": "code",
   "execution_count": 102,
   "metadata": {},
   "outputs": [],
   "source": [
    "class simpleAutoEncoder(nn.Module):\n",
    "    def __init__(self, size):\n",
    "        super(simpleAutoEncoder, self).__init__()\n",
    "\n",
    "        # Input size = 28*28 ~ 784\n",
    "        self.encoder = nn.Sequential(nn.Linear(size[0], size[1]),nn.ReLU())\n",
    "        self.latent1 = nn.Linear(size[1], size[2])\n",
    "        self.act1 = nn.ReLU()\n",
    "        self.latent2 = nn.Sequential(nn.Linear(size[2], size[3]), nn.ReLU())\n",
    "        self.decoder = nn.Sequential(nn.Linear(size[3],size[4]), nn.Sigmoid())\n",
    "\n",
    "\n",
    "    \n",
    "    def forward(self, x):\n",
    "        x = self.encoder(x)\n",
    "        x = self.latent1(x)\n",
    "        x = self.act1(x)\n",
    "        x = self.latent2(x)\n",
    "        x = self.decoder(x)\n",
    "       \n",
    "         \n",
    "        return x\n",
    "    \n"
   ]
  },
  {
   "cell_type": "code",
   "execution_count": 103,
   "metadata": {},
   "outputs": [],
   "source": [
    "input_size = 784\n",
    "hidden_size = 128\n",
    "code_size = 32\n",
    "\n",
    "size_mat = [input_size, hidden_size, code_size, hidden_size, input_size]  \n",
    "model = simpleAutoEncoder(size_mat)\n",
    "model.cuda()\n",
    "device = \"cuda\""
   ]
  },
  {
   "cell_type": "code",
   "execution_count": 119,
   "metadata": {},
   "outputs": [],
   "source": [
    "# Loss optimizers and schedulers \n",
    "loss = nn.MSELoss()\n",
    "optimizer = torch.optim.Adam(model.parameters(), lr = 0.001, )\n",
    "scheduler=torch.optim.lr_scheduler.ReduceLROnPlateau(optimizer, 'min')"
   ]
  },
  {
   "cell_type": "code",
   "execution_count": null,
   "metadata": {},
   "outputs": [],
   "source": [
    "\n",
    "epochs = 923\n",
    "\n",
    "checkpoint = torch.load(\"C:\\\\Users\\\\thopa\\\\Desktop\\\\Assignments\\\\11685\\\\Revision\\\\Part2_Recap\\\\MNIST_Autoencoder\\\\model_ckpt\\\\epoch_590.pt\")\n",
    "model.load_state_dict(checkpoint['model_state_dict'])\n",
    "optimizer.load_state_dict(checkpoint['optimizer_state_dict'])\n",
    "current_epoch = checkpoint['epoch']\n",
    "train_loss = checkpoint['loss']\n",
    "\n",
    "\n",
    "model.train()\n",
    "for i in range(current_epoch, epochs):\n",
    "    optimizer.zero_grad()\n",
    "    for j, (data, labels) in enumerate(train_loader):\n",
    "        data = np.squeeze(data).reshape(60000,784)\n",
    "        data = data.to(device)\n",
    "        out = model(data)\n",
    "        crit = loss(out, data)\n",
    "        crit.backward()\n",
    "        optimizer.step()\n",
    "        print(\"[EPOCH : {}] Train Loss: {}\".format(i , crit.item()))\n",
    "    scheduler.step(crit.item())\n",
    "    if i % 10 == 0:\n",
    "        torch.save({\n",
    "            'epoch': i,\n",
    "            'model_state_dict': model.state_dict(),\n",
    "            'optimizer_state_dict': optimizer.state_dict(),\n",
    "            'loss': crit.item(),\n",
    "            },\"C:\\\\Users\\\\thopa\\\\Desktop\\\\Assignments\\\\11685\\\\Revision\\\\Part2_Recap\\\\MNIST_Autoencoder\\\\model_ckpt\\\\epoch_{}.pt\".format(i))\n"
   ]
  },
  {
   "cell_type": "code",
   "execution_count": 134,
   "metadata": {},
   "outputs": [
    {
     "name": "stdout",
     "output_type": "stream",
     "text": [
      "average test loss: 0.5307731032371521\n",
      "(10000, 784)\n",
      "(10000, 784)\n"
     ]
    }
   ],
   "source": [
    "# Model Evaluate perceptually ~ Observing 5 samples \n",
    "# Average test loss as well with BATCH gradient descent \n",
    "\n",
    "for i, (test_data, test_labels) in  enumerate(test_loader):\n",
    "    model = model.eval()\n",
    "    test_data = test_data.reshape(10000,784)\n",
    "    test_data = test_data.to(device)\n",
    "    out = model(test_data)\n",
    "    \n",
    "    crit = loss(out, test_data)\n",
    "    print(\"average test loss: {}\".format(crit.item()))\n",
    "\n",
    "# plotting few of the reconstructed images \n",
    "out = out.detach().cpu().numpy()\n",
    "test_data = test_data.cpu().numpy()\n"
   ]
  },
  {
   "cell_type": "code",
   "execution_count": 152,
   "metadata": {},
   "outputs": [
    {
     "data": {
      "image/png": "[encoded data removed]",
      "text/plain": [
       "<Figure size 500x700 with 5 Axes>"
      ]
     },
     "metadata": {},
     "output_type": "display_data"
    },
    {
     "data": {
      "image/png": "[encoded data removed]",
      "text/plain": [
       "<Figure size 500x700 with 5 Axes>"
      ]
     },
     "metadata": {},
     "output_type": "display_data"
    }
   ],
   "source": [
    "\n",
    "predicted = np.asarray(out[0:5].reshape(5, image_size, image_size, 1)).squeeze()\n",
    "original  = np.asarray(test_data[0:5].reshape(5,image_size, image_size,1)).squeeze()\n",
    "\n",
    "fig = plt.figure(figsize=(5, 7))\n",
    "for i in range(5):\n",
    "    fig.add_subplot(2, 5, i+1)\n",
    "    data = original[i].reshape(image_size, image_size)\n",
    "    plt.imshow(data)\n",
    "    plt.axis(\"off\")\n",
    "\n",
    "fig = plt.figure(figsize=(5, 7))\n",
    "for i in range(5):\n",
    "    fig.add_subplot(2, 5, i+1)\n",
    "    data = predicted[i].reshape(image_size, image_size)\n",
    "    plt.imshow(data)\n",
    "    plt.axis(\"off\")\n",
    "\n"
   ]
  },
  {
   "cell_type": "code",
   "execution_count": null,
   "metadata": {},
   "outputs": [],
   "source": []
  }
 ],
 "metadata": {
  "kernelspec": {
   "display_name": "Python 3.9.13 ('PointNet')",
   "language": "python",
   "name": "python3"
  },
  "language_info": {
   "codemirror_mode": {
    "name": "ipython",
    "version": 3
   },
   "file_extension": ".py",
   "mimetype": "text/x-python",
   "name": "python",
   "nbconvert_exporter": "python",
   "pygments_lexer": "ipython3",
   "version": "3.9.13"
  },
  "orig_nbformat": 4,
  "vscode": {
   "interpreter": {
    "hash": "be71f7ebca6fc406e8f2b7eb97fc71d65ed284e191505e45141d8f3008802363"
   }
  }
 },
 "nbformat": 4,
 "nbformat_minor": 2
}
